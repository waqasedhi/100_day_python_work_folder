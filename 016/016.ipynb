{
 "cells": [
  {
   "cell_type": "code",
   "execution_count": 1,
   "id": "8b85b9c6",
   "metadata": {},
   "outputs": [],
   "source": [
    "#day_16_25sep23"
   ]
  },
  {
   "cell_type": "code",
   "execution_count": 1,
   "id": "2c838afa",
   "metadata": {},
   "outputs": [
    {
     "name": "stdout",
     "output_type": "stream",
     "text": [
      "<turtle.Turtle object at 0x7effa4594610>\n",
      "<turtle._Screen object at 0x7effa4595ad0>\n"
     ]
    }
   ],
   "source": [
    "from turtle import Turtle, Screen\n",
    "\n",
    "timmy=Turtle()\n",
    "print(timmy)\n",
    "timmy.shape(\"turtle\")\n",
    "timmy.color(\"red\",\"green\")\n",
    "timmy.fd(100)\n",
    "\n",
    "screen=Screen()\n",
    "print(screen)\n",
    "screen.exitonclick()"
   ]
  },
  {
   "cell_type": "code",
   "execution_count": 7,
   "id": "ac1de120",
   "metadata": {},
   "outputs": [],
   "source": [
    "from prettytable import PrettyTable\n",
    "x=PrettyTable()"
   ]
  },
  {
   "cell_type": "code",
   "execution_count": 8,
   "id": "8570db4e",
   "metadata": {},
   "outputs": [],
   "source": [
    "x.add_column(\"City name\",\n",
    "[\"Adelaide\",\"Brisbane\",\"Darwin\",\"Hobart\",\"Sydney\",\"Melbourne\",\"Perth\"])\n",
    "x.add_column(\"Area\", [1295, 5905, 112, 1357, 2058, 1566, 5386])\n",
    "x.add_column(\"Population\", [1158259, 1857594, 120900, 205556, 4336374, 3806092,\n",
    "1554769])\n",
    "x.add_column(\"Annual Rainfall\",[600.5, 1146.4, 1714.7, 619.5, 1214.8, 646.9,\n",
    "869.4])"
   ]
  },
  {
   "cell_type": "code",
   "execution_count": 9,
   "id": "2d66b075",
   "metadata": {},
   "outputs": [
    {
     "name": "stdout",
     "output_type": "stream",
     "text": [
      "+-----------+------+------------+-----------------+\n",
      "| City name | Area | Population | Annual Rainfall |\n",
      "+-----------+------+------------+-----------------+\n",
      "|  Adelaide | 1295 |  1158259   |      600.5      |\n",
      "|  Brisbane | 5905 |  1857594   |      1146.4     |\n",
      "|   Darwin  | 112  |   120900   |      1714.7     |\n",
      "|   Hobart  | 1357 |   205556   |      619.5      |\n",
      "|   Sydney  | 2058 |  4336374   |      1214.8     |\n",
      "| Melbourne | 1566 |  3806092   |      646.9      |\n",
      "|   Perth   | 5386 |  1554769   |      869.4      |\n",
      "+-----------+------+------------+-----------------+\n"
     ]
    }
   ],
   "source": [
    "print(x)"
   ]
  },
  {
   "cell_type": "code",
   "execution_count": 11,
   "id": "4f435eb5",
   "metadata": {},
   "outputs": [
    {
     "name": "stdout",
     "output_type": "stream",
     "text": [
      "+--------------+----------+\n",
      "| Pokemon Name |   Type   |\n",
      "+--------------+----------+\n",
      "|   Pikachu    | Electric |\n",
      "|   Squirtle   |  Water   |\n",
      "|  Charmander  |   Fire   |\n",
      "+--------------+----------+\n"
     ]
    }
   ],
   "source": [
    "table=PrettyTable()\n",
    "\n",
    "table.add_column(\"Pokemon Name\", [\"Pikachu\",\"Squirtle\",\"Charmander\"])\n",
    "table.add_column(\"Type\", [\"Electric\",\"Water\",\"Fire\"])\n",
    "print(table)"
   ]
  },
  {
   "cell_type": "code",
   "execution_count": 14,
   "id": "656154f4",
   "metadata": {},
   "outputs": [
    {
     "name": "stdout",
     "output_type": "stream",
     "text": [
      "+--------------+----------+\n",
      "| Pokemon Name | Type     |\n",
      "+--------------+----------+\n",
      "| Pikachu      | Electric |\n",
      "| Squirtle     | Water    |\n",
      "| Charmander   | Fire     |\n",
      "+--------------+----------+\n"
     ]
    }
   ],
   "source": [
    "table.align=\"l\"\n",
    "print(table)"
   ]
  },
  {
   "cell_type": "code",
   "execution_count": 28,
   "id": "c7609611",
   "metadata": {},
   "outputs": [],
   "source": [
    "from menu import Menu, MenuItem\n",
    "from coffee_maker import CoffeeMaker\n",
    "from money_machine import MoneyMachine"
   ]
  },
  {
   "cell_type": "code",
   "execution_count": 46,
   "id": "e20abc71",
   "metadata": {},
   "outputs": [],
   "source": [
    "profit=MoneyMachine()\n",
    "maker=CoffeeMaker()"
   ]
  },
  {
   "cell_type": "code",
   "execution_count": 47,
   "id": "7aea208d",
   "metadata": {},
   "outputs": [
    {
     "name": "stdout",
     "output_type": "stream",
     "text": [
      "Money: $0\n",
      "None\n",
      "Water: 300ml\n",
      "Milk: 200ml\n",
      "Coffee: 100g\n",
      "None\n"
     ]
    }
   ],
   "source": [
    "print(profit.report())\n",
    "print(maker.report())"
   ]
  },
  {
   "cell_type": "code",
   "execution_count": 55,
   "id": "35df455e",
   "metadata": {},
   "outputs": [
    {
     "name": "stdout",
     "output_type": "stream",
     "text": [
      "​What would you like? (espresso/latte/cappuccino): latte\n"
     ]
    },
    {
     "ename": "TypeError",
     "evalue": "Menu.__init__() takes 1 positional argument but 2 were given",
     "output_type": "error",
     "traceback": [
      "\u001b[1;31m---------------------------------------------------------------------------\u001b[0m",
      "\u001b[1;31mTypeError\u001b[0m                                 Traceback (most recent call last)",
      "Cell \u001b[1;32mIn[55], line 11\u001b[0m\n\u001b[0;32m      9\u001b[0m     \u001b[38;5;28mprint\u001b[39m(profit\u001b[38;5;241m.\u001b[39mreport())\n\u001b[0;32m     10\u001b[0m \u001b[38;5;28;01melse\u001b[39;00m:\n\u001b[1;32m---> 11\u001b[0m     drink \u001b[38;5;241m=\u001b[39m Menu(choice)\n\u001b[0;32m     12\u001b[0m     \u001b[38;5;28;01mif\u001b[39;00m is_resource_sufficient(drink\u001b[38;5;241m.\u001b[39mingredients):\n\u001b[0;32m     13\u001b[0m         payment \u001b[38;5;241m=\u001b[39m profit\u001b[38;5;241m.\u001b[39mmake_payment()\n",
      "\u001b[1;31mTypeError\u001b[0m: Menu.__init__() takes 1 positional argument but 2 were given"
     ]
    }
   ],
   "source": [
    "is_on = True\n",
    "\n",
    "while is_on:\n",
    "    choice = input(\"​What would you like? (espresso/latte/cappuccino): \")\n",
    "    if choice == \"off\":\n",
    "        is_on = False\n",
    "    elif choice == \"report\":\n",
    "        print(maker.report())\n",
    "        print(profit.report())\n",
    "    else:\n",
    "        drink = Menu(choice)\n",
    "        if is_resource_sufficient(drink.ingredients):\n",
    "            payment = profit.make_payment()\n",
    "            if is_transaction_successful(payment, drink[\"cost\"]):\n",
    "                make_coffee(choice, drink[\"ingredients\"])\n",
    "\n"
   ]
  },
  {
   "cell_type": "code",
   "execution_count": null,
   "id": "a520d255",
   "metadata": {},
   "outputs": [],
   "source": []
  }
 ],
 "metadata": {
  "kernelspec": {
   "display_name": "Python 3 (ipykernel)",
   "language": "python",
   "name": "python3"
  },
  "language_info": {
   "codemirror_mode": {
    "name": "ipython",
    "version": 3
   },
   "file_extension": ".py",
   "mimetype": "text/x-python",
   "name": "python",
   "nbconvert_exporter": "python",
   "pygments_lexer": "ipython3",
   "version": "3.11.5"
  }
 },
 "nbformat": 4,
 "nbformat_minor": 5
}
