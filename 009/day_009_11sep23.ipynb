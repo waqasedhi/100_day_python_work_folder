{
 "cells": [
  {
   "cell_type": "code",
   "execution_count": null,
   "id": "4a66531b",
   "metadata": {},
   "outputs": [],
   "source": []
  },
  {
   "cell_type": "raw",
   "id": "bd509e88",
   "metadata": {},
   "source": [
    "Instructions\n",
    "You have access to a database of student_scores in the format of a dictionary. The keys in student_scores are the names of the students and the values are their exam scores.\n",
    "\n",
    "Write a program that converts their scores to grades. By the end of your program, you should have a new dictionary called student_grades that should contain student names for keys and their grades for values. The final version of the student_grades dictionary will be checked.\n",
    "\n",
    "DO NOT modify lines 1-7 to change the existing student_scores dictionary.\n",
    "\n",
    "DO NOT write any print statements.\n",
    "\n",
    "This is the scoring criteria:\n",
    "\n",
    "Scores 91 - 100: Grade = \"Outstanding\"\n",
    "\n",
    "Scores 81 - 90: Grade = \"Exceeds Expectations\"\n",
    "\n",
    "Scores 71 - 80: Grade = \"Acceptable\"\n",
    "\n",
    "Scores 70 or lower: Grade = \"Fail\"\n",
    "\n",
    "Expected Output\n",
    "'{'Harry': 'Exceeds Expectations', 'Ron': 'Acceptable', 'Hermione': 'Outstanding', 'Draco': 'Acceptable', 'Neville': 'Fail'}'\n",
    "Hint\n",
    "Remember that looping through a Dictionary will only give you the keys and not the values.\n",
    "\n",
    "If in doubt as to why your code is not doing what you expected, you can always print out the intermediate values.\n",
    "\n",
    "At the end of your program, the print statement will show the final student_scores dictionary, do not change this.\n",
    "\n",
    "Test Your Code\n",
    "Check your code is doing what it is supposed to. When you're happy with your code, click submit to check your solution.\n",
    "\n",
    "Solution\n",
    "https://repl.it/@appbrewery/day-9-1-solution"
   ]
  },
  {
   "cell_type": "code",
   "execution_count": 1,
   "id": "9d9a06ee",
   "metadata": {},
   "outputs": [
    {
     "name": "stdout",
     "output_type": "stream",
     "text": [
      "{'Harry': 'Exceeds Expectations', 'Ron': 'Acceptable', 'Hermione': 'Outstanding', 'Draco': 'Acceptable', 'Neville': 'Fail'}\n"
     ]
    }
   ],
   "source": [
    "student_scores = {\n",
    "  \"Harry\": 81,\n",
    "  \"Ron\": 78,\n",
    "  \"Hermione\": 99, \n",
    "  \"Draco\": 74,\n",
    "  \"Neville\": 62,\n",
    "}\n",
    "# 🚨 Don't change the code above 👆\n",
    "\n",
    "#TODO-1: Create an empty dictionary called student_grades.\n",
    "student_grades={}\n",
    "\n",
    "#TODO-2: Write your code below to add the grades to student_grades.👇\n",
    "for key in student_scores:\n",
    "    value=student_scores[key]\n",
    "    if value >=91:\n",
    "        student_grades[key] = \"Outstanding\"\n",
    "    elif value >=81:\n",
    "        student_grades[key] = \"Exceeds Expectations\"\n",
    "    elif value >=71:\n",
    "        student_grades[key] = \"Acceptable\"\n",
    "    else:\n",
    "        student_grades[key] = \"Fail\"\n",
    "\n",
    "# 🚨 Don't change the code below 👇\n",
    "print(student_grades)"
   ]
  },
  {
   "cell_type": "raw",
   "id": "ed9ddbcc",
   "metadata": {},
   "source": [
    "Instructions\n",
    "You are going to write a program that adds to a travel_log. You can see a travel_log which is a List that contains 2 Dictionaries.\n",
    "\n",
    "Write a function that will work with the following line of code on line 21 to add the entry for Russia to the travel_log.\n",
    "\n",
    "add_new_country(\"Russia\", 2, [\"Moscow\", \"Saint Petersburg\"])\n",
    "You've visited Russia 2 times.\n",
    "\n",
    "You've been to Moscow and Saint Petersburg.\n",
    "\n",
    "DO NOT modify the travel_log directly. You need to create a function that modifies it.\n",
    "\n",
    "Hint\n",
    "Look at the function call above to see what the name of the function should be.\n",
    "\n",
    "The inputs for the function are positional arguments. The order is very important.\n",
    "\n",
    "Feel free to choose your own parameter names.\n",
    "\n",
    "Test Your Code\n",
    "Check your code is doing what it is supposed to. When you're happy with your code, click submit to check your solution.\n",
    "\n",
    "Solution\n",
    "https://repl.it/@appbrewery/day-9-2-solution"
   ]
  },
  {
   "cell_type": "code",
   "execution_count": 14,
   "id": "8d1118eb",
   "metadata": {},
   "outputs": [
    {
     "name": "stdout",
     "output_type": "stream",
     "text": [
      "{'country': 'Russia', 'visits': 2, 'cities': ['Moscow', 'Saint Petersburg']}\n",
      "[{'country': 'France', 'visits': 12, 'cities': ['Paris', 'Lille', 'Dijon']}, {'country': 'Germany', 'visits': 5, 'cities': ['Berlin', 'Hamburg', 'Stuttgart']}, {'country': 'Russia', 'visits': 2, 'cities': ['Moscow', 'Saint Petersburg']}]\n"
     ]
    }
   ],
   "source": [
    "travel_log = [\n",
    "{\n",
    "  \"country\": \"France\",\n",
    "  \"visits\": 12,\n",
    "  \"cities\": [\"Paris\", \"Lille\", \"Dijon\"]\n",
    "},\n",
    "{\n",
    "  \"country\": \"Germany\",\n",
    "  \"visits\": 5,\n",
    "  \"cities\": [\"Berlin\", \"Hamburg\", \"Stuttgart\"]\n",
    "},\n",
    "]\n",
    "#🚨 Do NOT change the code above\n",
    "\n",
    "#TODO: Write the function that will allow new countries\n",
    "#to be added to the travel_log. 👇\n",
    "def add_new_country(country,visits, cities):\n",
    "    emp_dic={}\n",
    "    emp_dic[\"country\"]=country\n",
    "    emp_dic[\"visits\"]=visits\n",
    "    emp_dic[\"cities\"]=cities\n",
    "    print(emp_dic)\n",
    "    travel_log.append(emp_dic)\n",
    "\n",
    "\n",
    "\n",
    "\n",
    "#🚨 Do not change the code below\n",
    "add_new_country(\"Russia\", 2, [\"Moscow\", \"Saint Petersburg\"])\n",
    "print(travel_log)"
   ]
  },
  {
   "cell_type": "code",
   "execution_count": 13,
   "id": "8f439c31",
   "metadata": {},
   "outputs": [
    {
     "data": {
      "text/plain": [
       "[{'country': 'France', 'visits': 12, 'cities': ['Paris', 'Lille', 'Dijon']},\n",
       " {'country': 'Germany',\n",
       "  'visits': 5,\n",
       "  'cities': ['Berlin', 'Hamburg', 'Stuttgart']},\n",
       " {'country': 'Russia', 'visits': 2, 'cities': ['Moscow', 'Saint Petersburg']}]"
      ]
     },
     "execution_count": 13,
     "metadata": {},
     "output_type": "execute_result"
    }
   ],
   "source": [
    "travel_log2 = [\n",
    "{\n",
    "  \"country\": \"France\",\n",
    "  \"visits\": 12,\n",
    "  \"cities\": [\"Paris\", \"Lille\", \"Dijon\"]\n",
    "},\n",
    "{\n",
    "  \"country\": \"Germany\",\n",
    "  \"visits\": 5,\n",
    "  \"cities\": [\"Berlin\", \"Hamburg\", \"Stuttgart\"]\n",
    "},\n",
    "]\n",
    "emp={'country': 'Russia', 'visits': 2, 'cities': ['Moscow', 'Saint Petersburg']}\n",
    "travel_log2.append(emp)\n",
    "travel_log2"
   ]
  },
  {
   "cell_type": "raw",
   "id": "894b9687",
   "metadata": {},
   "source": [
    "## Blind Auction\n",
    "\n",
    "Click \"Open Preview\" above to see this file rendered with the markdown.\n",
    "\n",
    "# Instructions\n",
    "\n",
    "The objective is to write a program that will collect the names and bids of different people. The program should ask for each bidder's name and their bid individually. \n",
    "\n",
    "```\n",
    "Welcome to the secret auction program. \n",
    "What is your name?: Angela\n",
    "```\n",
    "```\n",
    "What's your bid?: $123\n",
    "```\n",
    "```\n",
    "Are there any other bidders? Type 'yes' or 'no'.\n",
    "yes\n",
    "\n",
    "```\n",
    "If there are other bidders, the screen should clear, so you can pass your phone to the next person. If there are no more bidders, then the program should display the name of the winner and their winning bid. \n",
    "\n",
    "```\n",
    "The winner is Elon with a bid of $55000000000\n",
    "```\n",
    "\n",
    "Use your knowledge of Python dictionaries and loops to solve this challenge. \n",
    "\n",
    "\n",
    "# My console doesn't clear!\n",
    "\n",
    "This will happen if you’re using an IDE other than replit (e.g., VSCode, PyCharm etc). Similar to how we used the \"random\" module previously, in this project we will use the \"replit\" module. The `clear()` function is available here via the replit module without any extra configuration. \n",
    "\n",
    "**I’ll cover how to use PyCharm and import modules on Day 15**. That said, you can write your own `clear()` function or configure your IDE like so: \n",
    "\n",
    "[Udemy Q&A Answer](https://www.udemy.com/course/100-days-of-code/learn/lecture/19279420#questions/16084076)\n",
    "\n",
    "\n",
    "# Solution\n",
    "\n",
    "[https://replit.com/@appbrewery/blind-auction-completed](https://replit.com/@appbrewery/blind-auction-completed?v=1)\n"
   ]
  },
  {
   "cell_type": "code",
   "execution_count": 16,
   "id": "e4d4191d",
   "metadata": {},
   "outputs": [],
   "source": [
    "logo = '''\n",
    "                         ___________\n",
    "                         \\         /\n",
    "                          )_______(\n",
    "                          |\"\"\"\"\"\"\"|_.-._,.---------.,_.-._\n",
    "                          |       | | |               | | ''-.\n",
    "                          |       |_| |_             _| |_..-'\n",
    "                          |_______| '-' `'---------'` '-'\n",
    "                          )\"\"\"\"\"\"\"(\n",
    "                         /_________\\\\\n",
    "                       .-------------.\n",
    "                      /_______________\\\\\n",
    "'''"
   ]
  },
  {
   "cell_type": "code",
   "execution_count": 34,
   "id": "7a4f4b1b",
   "metadata": {},
   "outputs": [
    {
     "name": "stdout",
     "output_type": "stream",
     "text": [
      "Welcome to the secret auction program.\n",
      "What is your name?\n",
      "waqas\n",
      "What's your bid?\n",
      "$123\n",
      "Are there any other bidders?yes\n",
      "Welcome to the secret auction program.\n",
      "What is your name?\n",
      "yasir\n",
      "What's your bid?\n",
      "$152\n",
      "Are there any other bidders?yes\n",
      "Welcome to the secret auction program.\n",
      "What is your name?\n",
      "sami\n",
      "What's your bid?\n",
      "$100\n",
      "Are there any other bidders?no\n",
      "{'waqas': 123, 'yasir': 152, 'sami': 100}\n",
      "The winner is yasir with a bid of $152\n"
     ]
    }
   ],
   "source": [
    "blind_auction=True\n",
    "auction={}\n",
    "\n",
    "\n",
    "def result():\n",
    "    high_bid={\n",
    "        \"name\":\"\",\n",
    "        \"bid\":0,\n",
    "    }\n",
    "    last_value=0\n",
    "    for key in auction:\n",
    "        if auction[key]>last_value:\n",
    "            last_value=auction[key]\n",
    "            high_bid[name]=key\n",
    "            high_bid[bid]=auction[key]\n",
    "        \n",
    "    print(f\"The winner is {high_bid[name]} with a bid of ${high_bid[bid]}\")\n",
    "\n",
    "while blind_auction:\n",
    "    print(\"Welcome to the secret auction program.\") \n",
    "    name=input(\"What is your name?\\n\")\n",
    "    bid=int(input(\"What's your bid?\\n$\"))\n",
    "    new_bid=input(\"Are there any other bidders?\")\n",
    "    auction[name]=bid\n",
    "    \n",
    "    \n",
    "    if new_bid== \"no\":\n",
    "        blind_auction=False\n",
    "        print(auction)\n",
    "        result()\n",
    "        \n"
   ]
  },
  {
   "cell_type": "code",
   "execution_count": 32,
   "id": "e36e1b77",
   "metadata": {},
   "outputs": [
    {
     "name": "stdout",
     "output_type": "stream",
     "text": [
      "The winner is yasir with a bid of $147\n"
     ]
    }
   ],
   "source": [
    "\n",
    "\n",
    "    "
   ]
  }
 ],
 "metadata": {
  "kernelspec": {
   "display_name": "Python 3 (ipykernel)",
   "language": "python",
   "name": "python3"
  },
  "language_info": {
   "codemirror_mode": {
    "name": "ipython",
    "version": 3
   },
   "file_extension": ".py",
   "mimetype": "text/x-python",
   "name": "python",
   "nbconvert_exporter": "python",
   "pygments_lexer": "ipython3",
   "version": "3.11.3"
  }
 },
 "nbformat": 4,
 "nbformat_minor": 5
}
