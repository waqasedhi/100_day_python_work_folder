{
 "cells": [
  {
   "cell_type": "markdown",
   "id": "b163341c",
   "metadata": {},
   "source": [
    "## frist challange"
   ]
  },
  {
   "cell_type": "markdown",
   "id": "638e9af7",
   "metadata": {},
   "source": [
    "\n",
    "\n",
    "https://app.codingrooms.com/w/WfXTS3Uuxdw5\n",
    "\n",
    "Instructions\n",
    "\n",
    "Write a program in main.py that prints the same notes from the previous lesson using what you have learnt about the Python print function.\n",
    "\n",
    "Warning: \n",
    "\n",
    "The output in your program should match the example output shown below exactly, character for character, even spaces and symbols should be identical, otherwise the tests won't pass.\n",
    "\n",
    "###Example Output\n",
    "After you have written your code, you should run your program and it should print the following:\n",
    "\n",
    "Day 1 - Python Print Function\n",
    "The function is declared like this:\n",
    "print('what to print')\n",
    "\n",
    "\n",
    "Test Your Code\n",
    "\n",
    "Check your code is doing what it is supposed to. When you're happy with your code, click submit to check your solution.\n",
    "\n",
    "Solution\n",
    "\n",
    "https://repl.it/@appbrewery/day-1-1-solution"
   ]
  },
  {
   "cell_type": "code",
   "execution_count": 3,
   "id": "bfaeb96e",
   "metadata": {},
   "outputs": [
    {
     "name": "stdout",
     "output_type": "stream",
     "text": [
      "Day 1 - Python Print Function \n",
      "The function is declared like this:\n",
      "print('what to print')\n"
     ]
    }
   ],
   "source": [
    "# Write your code below this line 👇\n",
    "print(\"\"\"Day 1 - Python Print Function \n",
    "The function is declared like this:\n",
    "print('what to print')\"\"\")"
   ]
  },
  {
   "cell_type": "markdown",
   "id": "e08d823a",
   "metadata": {},
   "source": [
    "## second challenge"
   ]
  },
  {
   "cell_type": "markdown",
   "id": "9ae47895",
   "metadata": {},
   "source": [
    "\n",
    "\n",
    "Instructions\n",
    "\n",
    "Look at the code in the code editor on the right. There are errors in all of the lines of code. Fix the code so that it runs without errors.\n",
    "\n",
    "Warning:\n",
    "\n",
    "The output in your program should match the example output shown below exactly, character for character, even spaces and symbols should be identical, otherwise the tests won't pass.\n",
    "\n",
    "Example Output\n",
    "When you run your program, it should print the following:\n",
    "\n",
    "Day 1 - String Manipulation\n",
    "String Concatenation is done with the \"+\" sign.\n",
    "e.g. print(\"Hello \" + \"world\")\n",
    "New lines can be created with a backslash and n.\n",
    "\n",
    "\n",
    "Test Your Code\n",
    "\n",
    "Check your code is doing what it is supposed to. When you're happy with your code, click submit to check your solution.\n",
    "\n",
    "Solution\n",
    "\n",
    "https://repl.it/@appbrewery/day-1-2-solution"
   ]
  },
  {
   "cell_type": "code",
   "execution_count": 4,
   "id": "253f7256",
   "metadata": {},
   "outputs": [
    {
     "name": "stdout",
     "output_type": "stream",
     "text": [
      "Day 1 - String Manipulation\n",
      "String Concatenation is done with the \"+\" sign.\n",
      "e.g. print(\"Hello \" + \"world\")\n",
      "New lines can be created with a backslash and n.\n"
     ]
    }
   ],
   "source": [
    "#Fix the code below 👇\n",
    "\n",
    "print(\"Day 1 - String Manipulation\")\n",
    "print('String Concatenation is done with the \"+\" sign.')\n",
    "print('e.g. print(\"Hello \" + \"world\")')\n",
    "print(\"New lines can be created with a backslash and n.\")"
   ]
  },
  {
   "cell_type": "markdown",
   "id": "0e3240d6",
   "metadata": {},
   "source": [
    "# third challange"
   ]
  },
  {
   "cell_type": "markdown",
   "id": "14e5b103",
   "metadata": {},
   "source": [
    "Instructions\n",
    "\n",
    "Write a program that prints the number of characters in a user's name. You might need to Google for a function that calculates the length of a string.\n",
    "\n",
    "e.g.\n",
    "\n",
    "https://www.google.com/search?q=how+to+get+the+length+of+a+string+in+python+stack+overflow\n",
    "\n",
    "Warning. \n",
    "Your program should work for different inputs. e.g. any name that you input.\n",
    "\n",
    "Example Input\n",
    "Angela\n",
    "Example Output\n",
    "6\n",
    "\n",
    "\n",
    "\n",
    "Hint\n",
    "\n",
    "You can put functions inside other functions.\n",
    "Don't try to print anything other than the length.\n",
    "\n",
    "Test Your Code\n",
    "\n",
    "Check your code is doing what it is supposed to. When you're happy with your code, click submit to check your solution.\n",
    "\n",
    "Solution\n",
    "\n",
    "https://repl.it/@appbrewery/day-1-3-solution"
   ]
  },
  {
   "cell_type": "code",
   "execution_count": 5,
   "id": "4f43ad80",
   "metadata": {},
   "outputs": [
    {
     "name": "stdout",
     "output_type": "stream",
     "text": [
      "what is your name?waqas\n",
      "5\n"
     ]
    }
   ],
   "source": [
    "#Write your code below this line 👇\n",
    "a=input(\"what is your name?\")\n",
    "print(len(a))"
   ]
  },
  {
   "cell_type": "markdown",
   "id": "8c2f6a97",
   "metadata": {},
   "source": [
    "## forth challenge"
   ]
  },
  {
   "cell_type": "markdown",
   "id": "e1bab4c3",
   "metadata": {},
   "source": [
    "Instructions\n",
    "\n",
    "Write a program that switches the values stored in the variables a and b.\n",
    "\n",
    "Warning. \n",
    "Do not change the code on lines 1-4 and 12-18. Your program should work for different inputs. e.g. any value of a and b.\n",
    "\n",
    "Example Input:\n",
    "\n",
    "a: 3\n",
    "b: 5\n",
    "\n",
    "Example Output:\n",
    "\n",
    "a: 5\n",
    "b: 3\n",
    "\n",
    "\n",
    "Hint:\n",
    "\n",
    "You should not have to type any numbers in your code.\n",
    "You might need to make some more variables.\n",
    "\n",
    "Test Your Code:\n",
    "\n",
    "Check your code is doing what it is supposed to. When you're happy with your code, click submit to check your solution.\n",
    "\n",
    "Solution:\n",
    "\n",
    "https://repl.it/@appbrewery/day-1-4-solution"
   ]
  },
  {
   "cell_type": "code",
   "execution_count": 6,
   "id": "173bbd3b",
   "metadata": {},
   "outputs": [
    {
     "name": "stdout",
     "output_type": "stream",
     "text": [
      "a: 5\n",
      "b: 3\n",
      "a: 3\n",
      "b: 5\n"
     ]
    }
   ],
   "source": [
    "# 🚨 Don't change the code below 👇\n",
    "a = input(\"a: \")\n",
    "b = input(\"b: \")\n",
    "# 🚨 Don't change the code above 👆\n",
    "\n",
    "####################################\n",
    "#Write your code below this line 👇\n",
    "c= a\n",
    "a=b\n",
    "b=c\n",
    "\n",
    "#Write your code above this line 👆\n",
    "####################################\n",
    "\n",
    "# 🚨 Don't change the code below 👇\n",
    "print(\"a: \" + a)\n",
    "print(\"b: \" + b)\n"
   ]
  },
  {
   "cell_type": "code",
   "execution_count": null,
   "id": "77ce6578",
   "metadata": {},
   "outputs": [],
   "source": []
  }
 ],
 "metadata": {
  "kernelspec": {
   "display_name": "Python 3 (ipykernel)",
   "language": "python",
   "name": "python3"
  },
  "language_info": {
   "codemirror_mode": {
    "name": "ipython",
    "version": 3
   },
   "file_extension": ".py",
   "mimetype": "text/x-python",
   "name": "python",
   "nbconvert_exporter": "python",
   "pygments_lexer": "ipython3",
   "version": "3.11.3"
  }
 },
 "nbformat": 4,
 "nbformat_minor": 5
}
