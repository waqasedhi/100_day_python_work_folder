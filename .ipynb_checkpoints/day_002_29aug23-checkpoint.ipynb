{
 "cells": [
  {
   "cell_type": "markdown",
   "id": "e6e4dbbc",
   "metadata": {},
   "source": [
    "## frist challenge"
   ]
  },
  {
   "cell_type": "markdown",
   "id": "52dda866",
   "metadata": {},
   "source": [
    "Instructions\n",
    "\n",
    "Write a program that adds the digits in a 2 digit number. e.g. if the input was 35, then the output should be 3 + 5 = 8\n",
    "\n",
    "Warning: \n",
    "\n",
    "Do not change the code on lines 1-3. Your program should work for different inputs. e.g. any two-digit number.\n",
    "\n",
    "Example Input\n",
    "\n",
    "39\n",
    "Example Output\n",
    "\n",
    "3 + 9 = 12\n",
    "12\n",
    "\n",
    "\n",
    "Hint\n",
    "\n",
    "Try to find out the data type of two_digit_number.\n",
    "Think about what you learnt about subscripting.\n",
    "Think about type conversion.\n",
    "\n",
    "Test Your Code\n",
    "\n",
    "Check your code is doing what it is supposed to. When you're happy with your code, click submit to check your solution.\n",
    "\n",
    "Solution\n",
    "\n",
    "https://repl.it/@appbrewery/day-2-1-solution"
   ]
  },
  {
   "cell_type": "code",
   "execution_count": null,
   "id": "e29a2d2c",
   "metadata": {},
   "outputs": [],
   "source": [
    "# 🚨 Don't change the code below 👇\n",
    "two_digit_number = input(\"Type a two digit number: \")\n",
    "# 🚨 Don't change the code above 👆\n",
    "\n",
    "####################################\n",
    "#Write your code below this line 👇\n",
    "frist_digit=int(two_digit_number[0])\n",
    "second_digit=int(two_digit_number[1])\n",
    "print(frist_digit+second_digit)"
   ]
  },
  {
   "cell_type": "markdown",
   "id": "ca78fb48",
   "metadata": {},
   "source": [
    "## second challenge"
   ]
  },
  {
   "cell_type": "markdown",
   "id": "c3ec9a92",
   "metadata": {},
   "source": [
    "Instructions\n",
    "\n",
    "Write a program that calculates the Body Mass Index (BMI) from a user's weight and height.\n",
    "\n",
    "The BMI is a measure of someone's weight taking into account their height. e.g. If a tall person and a short person both weigh the same amount, the short person is usually more overweight.\n",
    "\n",
    "The BMI is calculated by dividing a person's weight (in kg) by the square of their height (in m):\n",
    "\n",
    "\n",
    "\n",
    "Warning you should convert the result to a whole number.\n",
    "\n",
    "Example Input\n",
    "\n",
    "weight = 80\n",
    "height = 1.75\n",
    "\n",
    "Example Output\n",
    "\n",
    "80 ÷ (1.75 x 1.75) = 26.122448979591837\n",
    "26\n",
    "\n",
    "\n",
    "\n",
    "Hint\n",
    "\n",
    "Check the data type of the inputs.\n",
    "Try to use the exponent operator in your code.\n",
    "Remember PEMDAS.\n",
    "Remember to convert your result to a whole number (int).\n",
    "\n",
    "Test Your Code\n",
    "\n",
    "Check your code is doing what it is supposed to. When you're happy with your code, click submit to check your solution.\n",
    "\n",
    "Solution\n",
    "\n",
    "https://repl.it/@appbrewery/day-2-2-solution"
   ]
  },
  {
   "cell_type": "code",
   "execution_count": 4,
   "id": "47998c3b",
   "metadata": {},
   "outputs": [
    {
     "name": "stdout",
     "output_type": "stream",
     "text": [
      "enter your height in m: 1.8\n",
      "enter your weight in kg: 65\n",
      "20\n"
     ]
    }
   ],
   "source": [
    "# 🚨 Don't change the code below 👇\n",
    "height = input(\"enter your height in m: \")\n",
    "weight = input(\"enter your weight in kg: \")\n",
    "# 🚨 Don't change the code above 👆\n",
    "\n",
    "#Write your code below this line 👇\n",
    "float_height=float(height)\n",
    "float_weight=float(weight)\n",
    "bmi= int(float_weight/(float_height*float_height))\n",
    "print(bmi)"
   ]
  },
  {
   "cell_type": "markdown",
   "id": "e7f193c5",
   "metadata": {},
   "source": [
    "## third challange"
   ]
  },
  {
   "cell_type": "markdown",
   "id": "78439adf",
   "metadata": {},
   "source": [
    "Instructions\n",
    "\n",
    "I was reading this article by Tim Urban - Your Life in Weeks and realised just how little time we actually have.\n",
    "\n",
    "https://waitbutwhy.com/2014/05/life-weeks.html\n",
    "\n",
    "Create a program using maths and f-Strings that tells us how many days, weeks, months we have left if we live until 90 years old.\n",
    "\n",
    "It will take your current age as the input and output a message with our time left in this format:\n",
    "\n",
    "You have x days, y weeks, and z months left.\n",
    "\n",
    "Where x, y and z are replaced with the actual calculated numbers.\n",
    "\n",
    "Warning your output should match the Example Output format exactly, even the positions of the commas and full stops.\n",
    "\n",
    "Example Input\n",
    "\n",
    "56\n",
    "\n",
    "Example Output\n",
    "\n",
    "You have 12410 days, 1768 weeks, and 408 months left.\n",
    "\n",
    "\n",
    "\n",
    "Hint\n",
    "\n",
    "There are 365 days in a year, 52 weeks in a year and 12 months in a year.\n",
    "Try copying the example output into your code and replacing the relevant parts so that the sentence is formated the same way.\n",
    "\n",
    "Test Your Code\n",
    "\n",
    "Check your code is doing what it is supposed to. When you're happy with your code, click submit to check your solution.\n",
    "\n",
    "Solution\n",
    "\n",
    "https://repl.it/@appbrewery/day-2-3-solution"
   ]
  },
  {
   "cell_type": "code",
   "execution_count": 6,
   "id": "f505c38a",
   "metadata": {},
   "outputs": [
    {
     "name": "stdout",
     "output_type": "stream",
     "text": [
      "What is your current age? 110\n",
      "You have -7300 days, -1040 weeks, and -240 months left\n"
     ]
    }
   ],
   "source": [
    "# 🚨 Don't change the code below 👇\n",
    "age = input(\"What is your current age? \")\n",
    "# 🚨 Don't change the code above 👆\n",
    "\n",
    "#Write your code below this line 👇\n",
    "int_age=int(age)\n",
    "life=90\n",
    "remain_life=life-int_age\n",
    "days=remain_life*365\n",
    "weeks= remain_life*52\n",
    "months=remain_life*12\n",
    "print(f\"You have {days} days, {weeks} weeks, and {months} months left\")\n"
   ]
  },
  {
   "cell_type": "markdown",
   "id": "d712f771",
   "metadata": {},
   "source": [
    "## project bill and tip sharing calculator"
   ]
  },
  {
   "cell_type": "markdown",
   "id": "9ffc30e4",
   "metadata": {},
   "source": [
    "## Tip Calculator\n",
    "\n",
    "# Instructions\n",
    "\n",
    "If the bill was $150.00, split between 5 people, with 12% tip. \n",
    "\n",
    "Each person should pay (150.00 / 5) * 1.12 = 33.6\n",
    "\n",
    "Format the result to 2 decimal places = 33.60\n",
    "\n",
    "Thus everyone's share of the total bill is $30.00 plus a $3.60 tip.\n",
    "\n",
    "Tip: There are 2 ways to round a number. You might have to do some Googling to solve this.💪\n",
    "\n",
    "\n",
    "# Example Input\n",
    "\n",
    "```\n",
    "Welcome to the tip calculator!\n",
    "What was the total bill? $124.56\n",
    "How much tip would you like to give? 10, 12, or 15? 12\n",
    "How many people to split the bill? 7\n",
    "```\n",
    "\n",
    "# Example Output\n",
    "\n",
    "```\n",
    "Each person should pay: $19.93\n",
    "```\n",
    "\n",
    "\n",
    "# Hint\n",
    "\n",
    "1. [How to round a number to 2 decimal places in Python](https://www.google.com/search?q=how+to+round+number+to+2+decimal+places+python&oq=how+to+round+number+to+2+decimal)\n",
    "2. [How to limit a float to two decimal places in Python](https://www.kite.com/python/answers/how-to-limit-a-float-to-two-decimal-places-in-python)\n",
    "\n",
    "\n",
    "\n",
    "# Solution\n",
    "\n",
    "[https://replit.com/@appbrewery/tip-calculator-end](https://replit.com/@appbrewery/tip-calculator-end)"
   ]
  },
  {
   "cell_type": "code",
   "execution_count": 13,
   "id": "f7cc59ca",
   "metadata": {},
   "outputs": [
    {
     "name": "stdout",
     "output_type": "stream",
     "text": [
      "welcome to bill and tip sharing calculator! \n",
      "what was the total bill?\n",
      " $150\n",
      "what persentage tip would you like to give?\n",
      "12\n",
      "how many people to split the bill?\n",
      "5\n",
      "Each person should pay: $ 33.60\n"
     ]
    }
   ],
   "source": [
    "#If the bill was $150.00, split between 5 people, with 12% tip. \n",
    "\n",
    "#Each person should pay (150.00 / 5) * 1.12 = 33.6\n",
    "#Format the result to 2 decimal places = 33.60\n",
    "\n",
    "#Tip: There are 2 ways to round a number. You might have to do some Googling to solve this.💪\n",
    "\n",
    "#Write your code below this line 👇\n",
    "\n",
    "# welcome note  \n",
    "print(\"welcome to bill and tip sharing calculator! \")\n",
    "# ask for bill amount\n",
    "bill_amount=float(input(\"what was the total bill?\\n $\"))\n",
    "# ask for tip persntage\n",
    "tip_persentage=float(input(\"what persentage tip would you like to give?\\n\"))\n",
    "# tip amount to calculate\n",
    "tip_amount=bill_amount*tip_persentage/100\n",
    "# ask sharing persons \n",
    "sharing_persons= float(input(\"how many people to split the bill?\\n\"))\n",
    "# sharing amount to calculate\n",
    "sharing_amount=round((bill_amount+tip_amount)/sharing_persons,2)\n",
    "# format rounding\n",
    "sharing_amount='{: .2f}'.format(sharing_amount)\n",
    "# print sharing amount\n",
    "print(f\"Each person should pay: ${sharing_amount}\")    "
   ]
  },
  {
   "cell_type": "code",
   "execution_count": null,
   "id": "781b615f",
   "metadata": {},
   "outputs": [],
   "source": []
  }
 ],
 "metadata": {
  "kernelspec": {
   "display_name": "Python 3 (ipykernel)",
   "language": "python",
   "name": "python3"
  },
  "language_info": {
   "codemirror_mode": {
    "name": "ipython",
    "version": 3
   },
   "file_extension": ".py",
   "mimetype": "text/x-python",
   "name": "python",
   "nbconvert_exporter": "python",
   "pygments_lexer": "ipython3",
   "version": "3.11.3"
  }
 },
 "nbformat": 4,
 "nbformat_minor": 5
}
