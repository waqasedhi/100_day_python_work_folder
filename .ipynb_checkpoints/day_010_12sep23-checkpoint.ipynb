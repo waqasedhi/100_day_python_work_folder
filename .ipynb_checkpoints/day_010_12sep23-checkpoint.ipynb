{
 "cells": [
  {
   "cell_type": "code",
   "execution_count": 1,
   "id": "2950702f",
   "metadata": {},
   "outputs": [],
   "source": [
    "#function with outputs"
   ]
  },
  {
   "cell_type": "code",
   "execution_count": 26,
   "id": "2b583f52",
   "metadata": {},
   "outputs": [],
   "source": [
    "def format_name(f_name,l_name):\n",
    "    f_name=f_name.title()\n",
    "    l_name=l_name.title()\n",
    "    fullname=f\"{f_name} {l_name}\"\n",
    "    return fullname\n"
   ]
  },
  {
   "cell_type": "code",
   "execution_count": 27,
   "id": "bcd66f8d",
   "metadata": {},
   "outputs": [
    {
     "name": "stdout",
     "output_type": "stream",
     "text": [
      "Waqas Edhi\n"
     ]
    }
   ],
   "source": [
    "# fName=input(\"Tell your first name? \")\n",
    "# lName=input(\"Tell your last name? \")\n",
    "#fullName=format_name(fName, lName)\n",
    "fullName=format_name(\"waqas\", \"edhi\")\n",
    "\n",
    "print(fullName)"
   ]
  },
  {
   "cell_type": "raw",
   "id": "fdf7f14e",
   "metadata": {},
   "source": [
    "Instructions\n",
    "In the starting code, you'll find the solution from the Leap Year challenge. First, convert this function is_leap() so that instead of printing \"Leap year.\" or \"Not leap year.\" it should return True if it is a leap year and return False if it is not a leap year.\n",
    "\n",
    "You are then going to create a function called days_in_month() which will take a year and a month as inputs, e.g.\n",
    "\n",
    "days_in_month(year=2022, month=2)\n",
    "And it will use this information to work out the number of days in the month, then return that as the output, e.g.:\n",
    "\n",
    "28\n",
    "The List month_days contains the number of days in a month from January to December for a non-leap year. A leap year has 29 days in February.\n",
    "\n",
    "Hint\n",
    "Look at the function call at the bottom of the code to see the positional arguments. The order is very important.\n",
    "\n",
    "Feel free to choose your own parameter names.\n",
    "\n",
    "Remember that month_days is a List and Lists in Python start at position 0. So the number of days in January is month_days[0]\n",
    "\n",
    "Be careful with indentation.\n",
    "\n",
    "Test Your Code\n",
    "Check your code is doing what it is supposed to. When you're happy with your code, click submit to check your solution.\n",
    "\n",
    "Solution\n",
    "https://repl.it/@appbrewery/day-10-1-solution"
   ]
  },
  {
   "cell_type": "code",
   "execution_count": 6,
   "id": "1a5eeaa4",
   "metadata": {},
   "outputs": [
    {
     "name": "stdout",
     "output_type": "stream",
     "text": [
      "Enter a year: 2022\n",
      "Enter a month: 2\n",
      "28\n"
     ]
    }
   ],
   "source": [
    "def is_leap(year):\n",
    "    if year % 4 == 0:\n",
    "        if year % 100 == 0:\n",
    "            if year % 400 == 0:\n",
    "                return True\n",
    "                print(\"Leap year.\")\n",
    "            else:\n",
    "                return False\n",
    "                print(\"Not leap year.\")\n",
    "        else:\n",
    "            return True\n",
    "            print(\"Leap year.\")\n",
    "    else:\n",
    "        return False\n",
    "        print(\"Not leap year.\")\n",
    "\n",
    "def days_in_month(year, month):\n",
    "    month_days = [31, 28, 31, 30, 31, 30, 31, 31, 30, 31, 30, 31]\n",
    "    is_leap_year= is_leap(year)\n",
    "    if is_leap_year == True:\n",
    "        if month == 2:\n",
    "            return 29\n",
    "        else:\n",
    "            return month_days[month-1]\n",
    "    else:\n",
    "        return month_days[month-1]\n",
    "  \n",
    "  \n",
    "#🚨 Do NOT change any of the code below \n",
    "year = int(input(\"Enter a year: \"))\n",
    "month = int(input(\"Enter a month: \"))\n",
    "days = days_in_month(year, month)\n",
    "print(days)"
   ]
  },
  {
   "cell_type": "code",
   "execution_count": 13,
   "id": "01de6040",
   "metadata": {},
   "outputs": [
    {
     "name": "stdout",
     "output_type": "stream",
     "text": [
      "what's your first number?: 6\n",
      "+\n",
      "-\n",
      "*\n",
      "/\n",
      "pick an operation from the line above: +\n",
      "what's your second number?: 5\n",
      "\n",
      "6 + 5 = 11\n"
     ]
    }
   ],
   "source": [
    "#Add\n",
    "def add(n1, n2):\n",
    "    return n1 + n2\n",
    "\n",
    "\n",
    "#subtract\n",
    "def sub(n1, n2):\n",
    "    return n1 - n2\n",
    "\n",
    "\n",
    "#multiply\n",
    "def multi(n1, n2):\n",
    "    return n1 * n2\n",
    "\n",
    "\n",
    "#divide\n",
    "def divide(n1, n2):\n",
    "    return n1 / n2\n",
    "\n",
    "\n",
    "#calculator\n",
    "# def calc():\n",
    "#     if operation_symbol == \"+\":\n",
    "#         return operations[operation_symbol](num1, num2)\n",
    "#     elif operation_symbol == \"-\":\n",
    "#         return operations[operation_symbol](num1, num2)\n",
    "#     elif operation_symbol == \"*\":\n",
    "#         return operations[operation_symbol](num1, num2)\n",
    "#     elif operation_symbol == \"/\":\n",
    "#         return operations[operation_symbol](num1, num2)\n",
    "\n",
    "\n",
    "operations = {\"+\": add, \"-\": sub, \"*\": multi, \"/\": divide}\n",
    "\n",
    "num1 = int(input(\"what's your first number?: \"))\n",
    "for key in operations:\n",
    "    print(key)\n",
    "operation_symbol = input(\"pick an operation from the line above: \")\n",
    "num2 = int(input(\"what's your second number?: \"))\n",
    "#answer = calc()\n",
    "calc=operations[operation_symbol]\n",
    "answer=calc(num1,num2 )\n",
    "\n",
    "print(f\"\\n{num1} {operation_symbol} {num2} = {answer}\")\n"
   ]
  },
  {
   "cell_type": "code",
   "execution_count": null,
   "id": "5a7b405a",
   "metadata": {},
   "outputs": [
    {
     "name": "stdout",
     "output_type": "stream",
     "text": [
      "what's your first number?: 2\n",
      "+\n",
      "-\n",
      "*\n",
      "/\n",
      "pick an operation: +\n",
      "what's your second number?: 2\n",
      "\n",
      "2 + 2 = 4\n",
      "Type 'y to continue calculating with 4, or type 'n' to exit: n\n"
     ]
    }
   ],
   "source": [
    "#Add\n",
    "def add(n1, n2):\n",
    "    return n1 + n2\n",
    "\n",
    "\n",
    "#subtract\n",
    "def sub(n1, n2):\n",
    "    return n1 - n2\n",
    "\n",
    "\n",
    "#multiply\n",
    "def multi(n1, n2):\n",
    "    return n1 * n2\n",
    "\n",
    "\n",
    "#divide\n",
    "def divide(n1, n2):\n",
    "    return n1 / n2\n",
    "\n",
    "\n",
    "#calculator\n",
    "# def calc():\n",
    "#     if operation_symbol == \"+\":\n",
    "#         return operations[operation_symbol](num1, num2)\n",
    "#     elif operation_symbol == \"-\":\n",
    "#         return operations[operation_symbol](num1, num2)\n",
    "#     elif operation_symbol == \"*\":\n",
    "#         return operations[operation_symbol](num1, num2)\n",
    "#     elif operation_symbol == \"/\":\n",
    "#         return operations[operation_symbol](num1, num2)\n",
    "\n",
    "\n",
    "operations = {\"+\": add, \"-\": sub, \"*\": multi, \"/\": divide}\n",
    "def calculator():\n",
    "    num1 = float(input(\"what's your first number?: \"))\n",
    "    for key in operations:\n",
    "            print(key)\n",
    "    calculate=True\n",
    "    while calculate:\n",
    "        operation_symbol = input(\"pick an operation: \")\n",
    "        num2 = float(input(\"what's your second number?: \"))\n",
    "        #answer = calc()\n",
    "        calc=operations[operation_symbol]\n",
    "        answer=calc(num1,num2 )\n",
    "        print(f\"\\n{num1} {operation_symbol} {num2} = {answer}\")\n",
    "        ask=input(f\"Type 'y to continue calculating with {answer}, or type 'n' to exit: \").lower()\n",
    "        if ask=='y':\n",
    "            num1= answer\n",
    "        else:\n",
    "            calculate=False\n",
    "            calculator()\n",
    "calculator()"
   ]
  },
  {
   "cell_type": "code",
   "execution_count": null,
   "id": "40937e15",
   "metadata": {},
   "outputs": [],
   "source": []
  }
 ],
 "metadata": {
  "kernelspec": {
   "display_name": "Python 3 (ipykernel)",
   "language": "python",
   "name": "python3"
  },
  "language_info": {
   "codemirror_mode": {
    "name": "ipython",
    "version": 3
   },
   "file_extension": ".py",
   "mimetype": "text/x-python",
   "name": "python",
   "nbconvert_exporter": "python",
   "pygments_lexer": "ipython3",
   "version": "3.11.3"
  }
 },
 "nbformat": 4,
 "nbformat_minor": 5
}
