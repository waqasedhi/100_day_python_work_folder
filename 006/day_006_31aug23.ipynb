{
 "cells": [
  {
   "cell_type": "raw",
   "id": "ad778c3d",
   "metadata": {},
   "source": [
    "# library\n",
    "\n",
    "def turn_right():\n",
    "    turn_left()\n",
    "    turn_left()\n",
    "    turn_left()\n",
    "def jump():\n",
    "    move()\n",
    "    turn_left()\n",
    "    move()\n",
    "    turn_right()\n",
    "    move()\n",
    "    turn_right()\n",
    "    move()\n",
    "    turn_left()\n",
    "    \n",
    "def walljump():\n",
    "    turn_left()\n",
    "    move()\n",
    "    turn_right()\n",
    "    move()\n",
    "    turn_right()\n",
    "    move()\n",
    "    turn_left() \n",
    "def overwall():\n",
    "    turn_right()\n",
    "    move()\n",
    "    turn_right()\n",
    "    \n",
    "def pathway1():\n",
    "    while not at_goal():\n",
    "        if front_is_clear():\n",
    "            move()\n",
    "            if right_is_clear():\n",
    "                turn_right()\n",
    "        elif wall_in_front():\n",
    "            turn_left()\n",
    "\n",
    "def pathway2():\n",
    "    while not at_goal():\n",
    "        if front_is_clear():\n",
    "            move()\n",
    "            if front_is_clear() and right_is_clear():\n",
    "                turn_right()\n",
    "        elif not front_is_clear() and not right_is_clear():\n",
    "            turn_left()\n",
    "        elif front_is_clear() and not right_is_clear():\n",
    "            move()\n",
    "        elif right_is_clear():\n",
    "            turn_right()\n",
    "            \n",
    "def pathway():\n",
    "    while not at_goal():\n",
    "        if front_is_clear():\n",
    "            move()\n",
    "        elif not front_is_clear() and not right_is_clear():\n",
    "            turn_left()\n",
    "        elif front_is_clear() and not right_is_clear():\n",
    "            move()\n",
    "        elif front_is_clear() and right_is_clear():\n",
    "            turn_right()\n",
    "        elif right_is_clear():\n",
    "            turn_right()\n"
   ]
  },
  {
   "cell_type": "raw",
   "id": "12fe1dec",
   "metadata": {},
   "source": [
    "#home 1\n",
    "\n",
    "move()\n",
    "move()"
   ]
  },
  {
   "cell_type": "raw",
   "id": "5e138714",
   "metadata": {},
   "source": [
    "#home 2\n",
    "\n",
    "move()\n",
    "move()"
   ]
  },
  {
   "cell_type": "raw",
   "id": "d1c054d8",
   "metadata": {},
   "source": [
    "#home3\n",
    "\n",
    "move()\n",
    "move()\n",
    "turn_left()"
   ]
  },
  {
   "cell_type": "raw",
   "id": "3b98db8f",
   "metadata": {},
   "source": [
    "#home4\n",
    "\n",
    "from library import pathway1\n",
    "\n",
    "while not at_goal():\n",
    "    pathway1()"
   ]
  },
  {
   "cell_type": "raw",
   "id": "50a0fc07",
   "metadata": {},
   "source": [
    "#around1\n",
    "\n",
    "repeat 4:\n",
    "    move()\n",
    "    move()\n",
    "    move()\n",
    "    move()\n",
    "    move()\n",
    "    move()\n",
    "    move()\n",
    "    move()\n",
    "    move()\n",
    "    turn_left()"
   ]
  },
  {
   "cell_type": "raw",
   "id": "16a4024a",
   "metadata": {},
   "source": [
    "# around1-variable\n",
    "\n",
    "while not object_here():\n",
    "    if not object_here():\n",
    "        put()\n",
    "        if wall_in_front():\n",
    "            turn_left()\n",
    "            move()\n",
    "        else:\n",
    "            move()\n",
    "    elif wall_in_front():\n",
    "        turn_left()"
   ]
  },
  {
   "cell_type": "raw",
   "id": "7bcdf8b5",
   "metadata": {},
   "source": [
    "# around1-apple\n",
    "\n",
    "repeat 40:\n",
    "    if front_is_clear():\n",
    "        move()\n",
    "        if object_here():\n",
    "            take()\n",
    "    else:\n",
    "        turn_left()"
   ]
  },
  {
   "cell_type": "raw",
   "id": "a20ae115",
   "metadata": {},
   "source": [
    "# around 2\n",
    "\n",
    "from library import turn_right\n",
    "\n",
    "while not object_here():\n",
    "    if not object_here():\n",
    "        put()\n",
    "        if wall_in_front():\n",
    "            turn_left()\n",
    "            move()\n",
    "        elif right_is_clear():\n",
    "            turn_right()\n",
    "            move()\n",
    "        else:\n",
    "            move()\n",
    "    elif wall_in_front():\n",
    "        turn_left()"
   ]
  },
  {
   "cell_type": "raw",
   "id": "177696df",
   "metadata": {},
   "source": [
    "# around 3 and 4\n",
    "\n",
    "from library import turn_right\n",
    "\n",
    "while not object_here():\n",
    "    if not object_here():\n",
    "        put()\n",
    "        if wall_in_front():\n",
    "            turn_left()\n",
    "            move()\n",
    "        elif right_is_clear():\n",
    "            turn_right()\n",
    "            move()\n",
    "        else:\n",
    "            move()\n",
    "    elif wall_in_front():\n",
    "        turn_left()"
   ]
  },
  {
   "cell_type": "raw",
   "id": "8b1a3621",
   "metadata": {},
   "source": [
    "#around 4\n",
    "\n",
    "from library import turn_right\n",
    "\n",
    "while True:\n",
    "    if not object_here():\n",
    "        put()\n",
    "        if wall_in_front():\n",
    "            turn_left()\n",
    "            if wall_in_front():\n",
    "                turn_left()\n",
    "            move()\n",
    "        elif right_is_clear():\n",
    "            turn_right()\n",
    "            move()\n",
    "        else:\n",
    "            move()\n",
    "            if object_here():\n",
    "                move()\n",
    "                done()\n",
    "    elif wall_in_front():\n",
    "        turn_left()"
   ]
  },
  {
   "cell_type": "raw",
   "id": "d8d3b0be",
   "metadata": {},
   "source": [
    "# center 1\n",
    "\n",
    "while True:\n",
    "    if front_is_clear() and not object_here():\n",
    "        move()\n",
    "        if object_here():\n",
    "            turn_left()\n",
    "            turn_left()\n",
    "            take()\n",
    "            move()\n",
    "            put()\n",
    "            move()\n",
    "    elif front_is_clear() and object_here():\n",
    "        turn_left()\n",
    "        turn_left()\n",
    "        take()\n",
    "        move()\n",
    "        if object_here():\n",
    "            done()\n",
    "        elif not object_here():\n",
    "            put()\n",
    "            move()\n",
    "    elif wall_in_front() and not object_here():\n",
    "        put()\n",
    "        turn_left()\n",
    "        turn_left()\n",
    "        move()\n",
    "    elif wall_in_front() and object_here():\n",
    "        turn_left()\n",
    "        turn_left()\n",
    "        take()\n",
    "        move()\n",
    "        if object_here():\n",
    "            done()"
   ]
  },
  {
   "cell_type": "raw",
   "id": "7bdc0bbf",
   "metadata": {},
   "source": []
  },
  {
   "cell_type": "raw",
   "id": "6f74925d",
   "metadata": {},
   "source": []
  }
 ],
 "metadata": {
  "kernelspec": {
   "display_name": "Python 3 (ipykernel)",
   "language": "python",
   "name": "python3"
  },
  "language_info": {
   "codemirror_mode": {
    "name": "ipython",
    "version": 3
   },
   "file_extension": ".py",
   "mimetype": "text/x-python",
   "name": "python",
   "nbconvert_exporter": "python",
   "pygments_lexer": "ipython3",
   "version": "3.11.3"
  }
 },
 "nbformat": 4,
 "nbformat_minor": 5
}
